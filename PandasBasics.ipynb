{
  "nbformat": 4,
  "nbformat_minor": 0,
  "metadata": {
    "colab": {
      "name": "PandasBasics.ipynb",
      "provenance": []
    },
    "kernelspec": {
      "name": "python3",
      "display_name": "Python 3"
    },
    "language_info": {
      "name": "python"
    }
  },
  "cells": [
    {
      "cell_type": "markdown",
      "source": [
        "# Pandas Basics\n",
        "#### My Personal notes on Pandas Module\n",
        "\n",
        "\n",
        "\n",
        "1. Import Pandas Module"
      ],
      "metadata": {
        "id": "on1e1iWJfUMV"
      }
    },
    {
      "cell_type": "code",
      "execution_count": null,
      "metadata": {
        "id": "6BM-LSgWfAYb"
      },
      "outputs": [],
      "source": [
        "import numpy as np\n",
        "import pandas as pd"
      ]
    },
    {
      "cell_type": "markdown",
      "source": [
        "## Creating DataFrame\n",
        "\n",
        "Example:\n",
        "  * 5 rows\n",
        "  * 2 columns, one named `Students` and the other named `Courses`\n",
        "\n",
        "The following code cell instantiates a `pd.DataFrame` class to generate a DataFrame."
      ],
      "metadata": {
        "id": "4rLaGOaufwlx"
      }
    },
    {
      "cell_type": "code",
      "source": [
        "#Populate a 4x2 NumPy array.\n",
        "st_data = np.array([[45, 3], [107, 4], [67, 5], [22, 6]])\n",
        "\n",
        "#Python list that holds the names of the two columns.\n",
        "st_columns = ['Students', 'courses']\n",
        "\n",
        "# Create a DataFrame.\n",
        "st_dataframe = pd.DataFrame(data=st_data, columns=st_columns)\n",
        "\n",
        "# Print the entire DataFrame\n",
        "print(st_dataframe)"
      ],
      "metadata": {
        "colab": {
          "base_uri": "https://localhost:8080/"
        },
        "id": "NP28RyxCfwJa",
        "outputId": "f853ced2-05a6-45d2-8bf4-cc2b132e00ec"
      },
      "execution_count": null,
      "outputs": [
        {
          "output_type": "stream",
          "name": "stdout",
          "text": [
            "   Students  courses\n",
            "0        45        3\n",
            "1       107        4\n",
            "2        67        5\n",
            "3        22        6\n"
          ]
        }
      ]
    },
    {
      "cell_type": "markdown",
      "source": [
        "## Adding a new column to a DataFrame\n",
        "\n",
        "You may add a new column to an existing pandas DataFrame just by assigning values to a new column name. For example, the following code creates a third column named `adjusted` in `my_dataframe`: "
      ],
      "metadata": {
        "id": "gXokSTSSiRit"
      }
    },
    {
      "cell_type": "code",
      "source": [
        "# Create a new column named adjusted.\n",
        "st_dataframe[\"new_courses\"] = st_dataframe[\"courses\"] + 2\n",
        "\n",
        "# Print the entire DataFrame\n",
        "print(st_dataframe)"
      ],
      "metadata": {
        "colab": {
          "base_uri": "https://localhost:8080/"
        },
        "id": "YK3MiuapiU3s",
        "outputId": "fd7a5447-5799-4b9c-851d-a5a19a54ba4b"
      },
      "execution_count": null,
      "outputs": [
        {
          "output_type": "stream",
          "name": "stdout",
          "text": [
            "   Students  courses  new_courses\n",
            "0        45        3            5\n",
            "1       107        4            6\n",
            "2        67        5            7\n",
            "3        22        6            8\n"
          ]
        }
      ]
    },
    {
      "cell_type": "markdown",
      "source": [
        "## Specifying a subset of a DataFrame\n",
        "\n",
        "Pandas provide multiples ways to isolate specific rows, columns, slices or cells in a DataFrame. "
      ],
      "metadata": {
        "id": "wv6k0OmdiXCX"
      }
    },
    {
      "cell_type": "code",
      "source": [
        "print(\"Rows #0, #1, and #2:\")\n",
        "print(st_dataframe.head(3), '\\n')\n",
        "\n",
        "print(\"Row #2:\")\n",
        "print(st_dataframe.iloc[[2]], '\\n')\n",
        "\n",
        "print(\"Rows #1, #2, and #3:\")\n",
        "print(st_dataframe[1:4], '\\n')\n",
        "\n",
        "print(\"Column 'Students':\")\n",
        "print(st_dataframe['Students'])"
      ],
      "metadata": {
        "colab": {
          "base_uri": "https://localhost:8080/"
        },
        "id": "Il3LTB9BiaVy",
        "outputId": "4b83b190-54ab-4ab5-8176-486e87524f03"
      },
      "execution_count": null,
      "outputs": [
        {
          "output_type": "stream",
          "name": "stdout",
          "text": [
            "Rows #0, #1, and #2:\n",
            "   Students  courses  new_courses\n",
            "0        45        3            5\n",
            "1       107        4            6\n",
            "2        67        5            7 \n",
            "\n",
            "Row #2:\n",
            "   Students  courses  new_courses\n",
            "2        67        5            7 \n",
            "\n",
            "Rows #1, #2, and #3:\n",
            "   Students  courses  new_courses\n",
            "1       107        4            6\n",
            "2        67        5            7\n",
            "3        22        6            8 \n",
            "\n",
            "Column 'Students':\n",
            "0     45\n",
            "1    107\n",
            "2     67\n",
            "3     22\n",
            "Name: Students, dtype: int64\n"
          ]
        }
      ]
    }
  ]
}
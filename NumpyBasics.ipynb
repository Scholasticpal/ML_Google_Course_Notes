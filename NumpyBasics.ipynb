{
  "nbformat": 4,
  "nbformat_minor": 0,
  "metadata": {
    "colab": {
      "name": "NumpyBasics.ipynb",
      "provenance": []
    },
    "kernelspec": {
      "name": "python3",
      "display_name": "Python 3"
    },
    "language_info": {
      "name": "python"
    }
  },
  "cells": [
    {
      "cell_type": "markdown",
      "source": [
        "# Numpy Basics\n",
        "#### My Personal notes on Numpy Module\n",
        "\n",
        "\n",
        "\n",
        "1. Import Numpy Module"
      ],
      "metadata": {
        "id": "e1g-6ehhlznX"
      }
    },
    {
      "cell_type": "code",
      "execution_count": null,
      "metadata": {
        "id": "_A31_zXYgNiL"
      },
      "outputs": [],
      "source": [
        "import numpy as np"
      ]
    },
    {
      "cell_type": "markdown",
      "source": [
        "2. Call `np.array` to create a Numpy Matrix"
      ],
      "metadata": {
        "id": "n5gOy0ETmieR"
      }
    },
    {
      "cell_type": "code",
      "source": [
        "array1 = np.array([34.2, 2.4, 45.3, 19.1, 12.3, 4.4]) # one Dimensional array\n",
        "print(array1)\n",
        "\n",
        "array2 = np.array([[3, 43], [12, 65], [33, 4]]) # two dimensional array\n",
        "print(array2)"
      ],
      "metadata": {
        "colab": {
          "base_uri": "https://localhost:8080/"
        },
        "id": "h919nXuynnMD",
        "outputId": "77a10c50-1545-47eb-efe7-95c28a87faad"
      },
      "execution_count": null,
      "outputs": [
        {
          "output_type": "stream",
          "name": "stdout",
          "text": [
            "[34.2  2.4 45.3 19.1 12.3  4.4]\n",
            "[[ 3 43]\n",
            " [12 65]\n",
            " [33  4]]\n"
          ]
        }
      ]
    },
    {
      "cell_type": "markdown",
      "source": [
        "3. `np.zeroes` = matrix with all zeroes\n",
        "4. `np.ones` = matrix with all ones"
      ],
      "metadata": {
        "id": "ISXCM0fStAuD"
      }
    },
    {
      "cell_type": "code",
      "source": [
        "aZeros = np.zeros(5)\n",
        "print(aZeros)\n",
        "\n",
        "bOnes = np.ones(6)\n",
        "print(bOnes)"
      ],
      "metadata": {
        "colab": {
          "base_uri": "https://localhost:8080/"
        },
        "id": "h0TNegOKtWCS",
        "outputId": "bc98d53e-9a1e-40a1-d15c-bca3427fb6c1"
      },
      "execution_count": null,
      "outputs": [
        {
          "output_type": "stream",
          "name": "stdout",
          "text": [
            "[0. 0. 0. 0. 0.]\n",
            "[1. 1. 1. 1. 1. 1.]\n"
          ]
        }
      ]
    },
    {
      "cell_type": "markdown",
      "source": [
        "5. `np.arrange` = generates no. sequence, including lower but excluding upper limit."
      ],
      "metadata": {
        "id": "iBPsr44Rwojy"
      }
    },
    {
      "cell_type": "code",
      "source": [
        "numbers_count = np.arange(7, 20)\n",
        "print(numbers_count)"
      ],
      "metadata": {
        "colab": {
          "base_uri": "https://localhost:8080/"
        },
        "id": "8TovAP7_oTnu",
        "outputId": "e849da8e-0ea0-4b18-fb46-664713bef476"
      },
      "execution_count": null,
      "outputs": [
        {
          "output_type": "stream",
          "name": "stdout",
          "text": [
            "[ 7  8  9 10 11 12 13 14 15 16 17 18 19]\n"
          ]
        }
      ]
    },
    {
      "cell_type": "markdown",
      "source": [
        "6. `np.random.randint`: generate random nos between set range (highest generated will be one less than the high limit)\n",
        "\n",
        "7. `np.random.random`: generate random floating point between 0.0 and 1.0\n"
      ],
      "metadata": {
        "id": "T8m8TuRAxuqf"
      }
    },
    {
      "cell_type": "code",
      "source": [
        "random_int_btw_30_and_100 = np.random.randint(low=30, high=101, size=(6))\n",
        "print(random_int_btw_30_and_100 )\n",
        "\n",
        "random_floats_btw_0_and_1 = np.random.random([6])\n",
        "print(random_floats_btw_0_and_1) "
      ],
      "metadata": {
        "colab": {
          "base_uri": "https://localhost:8080/"
        },
        "id": "4rEdUw9hxtUi",
        "outputId": "bf7a32f4-fa7f-46d0-d6d1-920d04e6e2f3"
      },
      "execution_count": null,
      "outputs": [
        {
          "output_type": "stream",
          "name": "stdout",
          "text": [
            "[78 71 87 93 40 74]\n",
            "[0.15857045 0.34602089 0.97423831 0.68462745 0.58427409 0.13374366]\n"
          ]
        }
      ]
    },
    {
      "cell_type": "markdown",
      "source": [
        "8. NumPy uses **broadcasting** to virtually expand the smaller operand to dimensions compatible for linear algebra."
      ],
      "metadata": {
        "id": "JciNejDEzcwT"
      }
    },
    {
      "cell_type": "code",
      "source": [
        "#add 3.0 to the value of every item in the vector created in the previous code cell\n",
        "\n",
        "random_floats_between_3_and_4 = random_floats_btw_0_and_1 + 3.0\n",
        "print(random_floats_between_3_and_4)"
      ],
      "metadata": {
        "colab": {
          "base_uri": "https://localhost:8080/"
        },
        "id": "emFSPiSv0pLX",
        "outputId": "939225f8-115d-425d-b516-6d6d8bc6bdc2"
      },
      "execution_count": null,
      "outputs": [
        {
          "output_type": "stream",
          "name": "stdout",
          "text": [
            "[3.15857045 3.34602089 3.97423831 3.68462745 3.58427409 3.13374366]\n"
          ]
        }
      ]
    },
    {
      "cell_type": "markdown",
      "source": [
        "## Task 1: Create a Linear Dataset\n",
        "\n",
        "Your goal is to create a simple dataset consisting of a single feature and a label as follows:\n",
        "\n",
        "1. Assign a sequence of integers from 6 to 20 (inclusive) to a NumPy array named `feature`.\n",
        "2. Assign 15 values to a NumPy array named `label` such that:\n",
        "\n",
        "```\n",
        "   label = (3)(feature) + 4\n",
        "```\n",
        "For example, the first value for `label` should be:\n",
        "\n",
        "```\n",
        "  label = (3)(6) + 4 = 22\n",
        " ```"
      ],
      "metadata": {
        "id": "8CZUOyqE1Fro"
      }
    },
    {
      "cell_type": "code",
      "source": [
        "feature = np.arange(6, 21)\n",
        "print(feature)\n",
        "label = (feature * 3) + 4\n",
        "print(label)"
      ],
      "metadata": {
        "id": "NKVNMCcn1EOi",
        "colab": {
          "base_uri": "https://localhost:8080/"
        },
        "outputId": "90a9a00e-ab17-4497-9f90-e4a69079466a"
      },
      "execution_count": null,
      "outputs": [
        {
          "output_type": "stream",
          "name": "stdout",
          "text": [
            "[ 6  7  8  9 10 11 12 13 14 15 16 17 18 19 20]\n",
            "[22 25 28 31 34 37 40 43 46 49 52 55 58 61 64]\n"
          ]
        }
      ]
    },
    {
      "cell_type": "markdown",
      "source": [
        "To make your dataset a little more realistic, insert a little random noise into each element of the label array you already created."
      ],
      "metadata": {
        "id": "9Sr4r8yY3vG6"
      }
    },
    {
      "cell_type": "code",
      "source": [
        "noise = (np.random.random([15]) * 4) - 2\n",
        "print(noise)\n",
        "label = label + noise\n",
        "print(label)"
      ],
      "metadata": {
        "colab": {
          "base_uri": "https://localhost:8080/"
        },
        "id": "lu8sZKMm3uf3",
        "outputId": "4b06631f-0a78-47a0-8915-fcdb6cc8df80"
      },
      "execution_count": null,
      "outputs": [
        {
          "output_type": "stream",
          "name": "stdout",
          "text": [
            "[ 1.02968275 -1.33505263  1.76207814 -0.85854424  0.52142086 -1.54388363\n",
            "  1.89154727  0.05585134  1.7093753  -1.91015302  0.9581475  -1.97003717\n",
            " -1.33264323 -0.0353665  -0.7186342 ]\n",
            "[23.02968275 23.66494737 29.76207814 30.14145576 34.52142086 35.45611637\n",
            " 41.89154727 43.05585134 47.7093753  47.08984698 52.9581475  53.02996283\n",
            " 56.66735677 60.9646335  63.2813658 ]\n"
          ]
        }
      ]
    }
  ]
}